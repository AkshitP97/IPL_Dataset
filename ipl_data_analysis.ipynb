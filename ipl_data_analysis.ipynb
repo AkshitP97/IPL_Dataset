{
 "cells": [
  {
   "cell_type": "code",
   "execution_count": 1,
   "metadata": {},
   "outputs": [],
   "source": [
    "import pandas as pd\n",
    "import numpy as np\n",
    "import datetime"
   ]
  },
  {
   "cell_type": "code",
   "execution_count": 2,
   "metadata": {},
   "outputs": [],
   "source": [
    "df = pd.read_csv(r'C:\\Users\\apati\\Desktop\\IPL_Dataset\\Dataset\\IPL Matches 2008-2020.csv')\n",
    "df['date'] = df['date'].apply(pd.to_datetime)\n",
    "df['Year'] = df['date'].dt.strftime('%Y')"
   ]
  },
  {
   "cell_type": "code",
   "execution_count": 3,
   "metadata": {},
   "outputs": [
    {
     "data": {
      "text/html": [
       "<div>\n",
       "<style scoped>\n",
       "    .dataframe tbody tr th:only-of-type {\n",
       "        vertical-align: middle;\n",
       "    }\n",
       "\n",
       "    .dataframe tbody tr th {\n",
       "        vertical-align: top;\n",
       "    }\n",
       "\n",
       "    .dataframe thead th {\n",
       "        text-align: right;\n",
       "    }\n",
       "</style>\n",
       "<table border=\"1\" class=\"dataframe\">\n",
       "  <thead>\n",
       "    <tr style=\"text-align: right;\">\n",
       "      <th></th>\n",
       "      <th>id</th>\n",
       "      <th>city</th>\n",
       "      <th>date</th>\n",
       "      <th>player_of_match</th>\n",
       "      <th>venue</th>\n",
       "      <th>neutral_venue</th>\n",
       "      <th>team1</th>\n",
       "      <th>team2</th>\n",
       "      <th>toss_winner</th>\n",
       "      <th>toss_decision</th>\n",
       "      <th>winner</th>\n",
       "      <th>result</th>\n",
       "      <th>result_margin</th>\n",
       "      <th>eliminator</th>\n",
       "      <th>method</th>\n",
       "      <th>umpire1</th>\n",
       "      <th>umpire2</th>\n",
       "      <th>Year</th>\n",
       "    </tr>\n",
       "  </thead>\n",
       "  <tbody>\n",
       "    <tr>\n",
       "      <th>0</th>\n",
       "      <td>335982</td>\n",
       "      <td>Bangalore</td>\n",
       "      <td>2008-04-18</td>\n",
       "      <td>BB McCullum</td>\n",
       "      <td>M Chinnaswamy Stadium</td>\n",
       "      <td>0</td>\n",
       "      <td>Royal Challengers Bangalore</td>\n",
       "      <td>Kolkata Knight Riders</td>\n",
       "      <td>Royal Challengers Bangalore</td>\n",
       "      <td>field</td>\n",
       "      <td>Kolkata Knight Riders</td>\n",
       "      <td>runs</td>\n",
       "      <td>140.0</td>\n",
       "      <td>N</td>\n",
       "      <td>NaN</td>\n",
       "      <td>Asad Rauf</td>\n",
       "      <td>RE Koertzen</td>\n",
       "      <td>2008</td>\n",
       "    </tr>\n",
       "    <tr>\n",
       "      <th>1</th>\n",
       "      <td>335983</td>\n",
       "      <td>Chandigarh</td>\n",
       "      <td>2008-04-19</td>\n",
       "      <td>MEK Hussey</td>\n",
       "      <td>Punjab Cricket Association Stadium, Mohali</td>\n",
       "      <td>0</td>\n",
       "      <td>Kings XI Punjab</td>\n",
       "      <td>Chennai Super Kings</td>\n",
       "      <td>Chennai Super Kings</td>\n",
       "      <td>bat</td>\n",
       "      <td>Chennai Super Kings</td>\n",
       "      <td>runs</td>\n",
       "      <td>33.0</td>\n",
       "      <td>N</td>\n",
       "      <td>NaN</td>\n",
       "      <td>MR Benson</td>\n",
       "      <td>SL Shastri</td>\n",
       "      <td>2008</td>\n",
       "    </tr>\n",
       "    <tr>\n",
       "      <th>2</th>\n",
       "      <td>335984</td>\n",
       "      <td>Delhi</td>\n",
       "      <td>2008-04-19</td>\n",
       "      <td>MF Maharoof</td>\n",
       "      <td>Feroz Shah Kotla</td>\n",
       "      <td>0</td>\n",
       "      <td>Delhi Daredevils</td>\n",
       "      <td>Rajasthan Royals</td>\n",
       "      <td>Rajasthan Royals</td>\n",
       "      <td>bat</td>\n",
       "      <td>Delhi Daredevils</td>\n",
       "      <td>wickets</td>\n",
       "      <td>9.0</td>\n",
       "      <td>N</td>\n",
       "      <td>NaN</td>\n",
       "      <td>Aleem Dar</td>\n",
       "      <td>GA Pratapkumar</td>\n",
       "      <td>2008</td>\n",
       "    </tr>\n",
       "    <tr>\n",
       "      <th>3</th>\n",
       "      <td>335985</td>\n",
       "      <td>Mumbai</td>\n",
       "      <td>2008-04-20</td>\n",
       "      <td>MV Boucher</td>\n",
       "      <td>Wankhede Stadium</td>\n",
       "      <td>0</td>\n",
       "      <td>Mumbai Indians</td>\n",
       "      <td>Royal Challengers Bangalore</td>\n",
       "      <td>Mumbai Indians</td>\n",
       "      <td>bat</td>\n",
       "      <td>Royal Challengers Bangalore</td>\n",
       "      <td>wickets</td>\n",
       "      <td>5.0</td>\n",
       "      <td>N</td>\n",
       "      <td>NaN</td>\n",
       "      <td>SJ Davis</td>\n",
       "      <td>DJ Harper</td>\n",
       "      <td>2008</td>\n",
       "    </tr>\n",
       "    <tr>\n",
       "      <th>4</th>\n",
       "      <td>335986</td>\n",
       "      <td>Kolkata</td>\n",
       "      <td>2008-04-20</td>\n",
       "      <td>DJ Hussey</td>\n",
       "      <td>Eden Gardens</td>\n",
       "      <td>0</td>\n",
       "      <td>Kolkata Knight Riders</td>\n",
       "      <td>Deccan Chargers</td>\n",
       "      <td>Deccan Chargers</td>\n",
       "      <td>bat</td>\n",
       "      <td>Kolkata Knight Riders</td>\n",
       "      <td>wickets</td>\n",
       "      <td>5.0</td>\n",
       "      <td>N</td>\n",
       "      <td>NaN</td>\n",
       "      <td>BF Bowden</td>\n",
       "      <td>K Hariharan</td>\n",
       "      <td>2008</td>\n",
       "    </tr>\n",
       "  </tbody>\n",
       "</table>\n",
       "</div>"
      ],
      "text/plain": [
       "       id        city       date player_of_match  \\\n",
       "0  335982   Bangalore 2008-04-18     BB McCullum   \n",
       "1  335983  Chandigarh 2008-04-19      MEK Hussey   \n",
       "2  335984       Delhi 2008-04-19     MF Maharoof   \n",
       "3  335985      Mumbai 2008-04-20      MV Boucher   \n",
       "4  335986     Kolkata 2008-04-20       DJ Hussey   \n",
       "\n",
       "                                        venue  neutral_venue  \\\n",
       "0                       M Chinnaswamy Stadium              0   \n",
       "1  Punjab Cricket Association Stadium, Mohali              0   \n",
       "2                            Feroz Shah Kotla              0   \n",
       "3                            Wankhede Stadium              0   \n",
       "4                                Eden Gardens              0   \n",
       "\n",
       "                         team1                        team2  \\\n",
       "0  Royal Challengers Bangalore        Kolkata Knight Riders   \n",
       "1              Kings XI Punjab          Chennai Super Kings   \n",
       "2             Delhi Daredevils             Rajasthan Royals   \n",
       "3               Mumbai Indians  Royal Challengers Bangalore   \n",
       "4        Kolkata Knight Riders              Deccan Chargers   \n",
       "\n",
       "                   toss_winner toss_decision                       winner  \\\n",
       "0  Royal Challengers Bangalore         field        Kolkata Knight Riders   \n",
       "1          Chennai Super Kings           bat          Chennai Super Kings   \n",
       "2             Rajasthan Royals           bat             Delhi Daredevils   \n",
       "3               Mumbai Indians           bat  Royal Challengers Bangalore   \n",
       "4              Deccan Chargers           bat        Kolkata Knight Riders   \n",
       "\n",
       "    result  result_margin eliminator method    umpire1         umpire2  Year  \n",
       "0     runs          140.0          N    NaN  Asad Rauf     RE Koertzen  2008  \n",
       "1     runs           33.0          N    NaN  MR Benson      SL Shastri  2008  \n",
       "2  wickets            9.0          N    NaN  Aleem Dar  GA Pratapkumar  2008  \n",
       "3  wickets            5.0          N    NaN   SJ Davis       DJ Harper  2008  \n",
       "4  wickets            5.0          N    NaN  BF Bowden     K Hariharan  2008  "
      ]
     },
     "execution_count": 3,
     "metadata": {},
     "output_type": "execute_result"
    }
   ],
   "source": [
    "df.head()"
   ]
  },
  {
   "cell_type": "code",
   "execution_count": 4,
   "metadata": {},
   "outputs": [
    {
     "data": {
      "text/plain": [
       "816"
      ]
     },
     "execution_count": 4,
     "metadata": {},
     "output_type": "execute_result"
    }
   ],
   "source": [
    "len(df['id'].unique())"
   ]
  },
  {
   "cell_type": "code",
   "execution_count": 5,
   "metadata": {},
   "outputs": [],
   "source": [
    "df1 = df.loc[(df['toss_winner']==df['winner'])]"
   ]
  },
  {
   "cell_type": "code",
   "execution_count": 6,
   "metadata": {},
   "outputs": [
    {
     "data": {
      "text/plain": [
       "418"
      ]
     },
     "execution_count": 6,
     "metadata": {},
     "output_type": "execute_result"
    }
   ],
   "source": [
    "len(df1)"
   ]
  },
  {
   "cell_type": "code",
   "execution_count": 7,
   "metadata": {},
   "outputs": [
    {
     "data": {
      "text/html": [
       "<div>\n",
       "<style scoped>\n",
       "    .dataframe tbody tr th:only-of-type {\n",
       "        vertical-align: middle;\n",
       "    }\n",
       "\n",
       "    .dataframe tbody tr th {\n",
       "        vertical-align: top;\n",
       "    }\n",
       "\n",
       "    .dataframe thead th {\n",
       "        text-align: right;\n",
       "    }\n",
       "</style>\n",
       "<table border=\"1\" class=\"dataframe\">\n",
       "  <thead>\n",
       "    <tr style=\"text-align: right;\">\n",
       "      <th></th>\n",
       "      <th>id</th>\n",
       "      <th>city</th>\n",
       "      <th>date</th>\n",
       "      <th>player_of_match</th>\n",
       "      <th>venue</th>\n",
       "      <th>neutral_venue</th>\n",
       "      <th>team1</th>\n",
       "      <th>team2</th>\n",
       "      <th>toss_winner</th>\n",
       "      <th>toss_decision</th>\n",
       "      <th>winner</th>\n",
       "      <th>result</th>\n",
       "      <th>result_margin</th>\n",
       "      <th>eliminator</th>\n",
       "      <th>method</th>\n",
       "      <th>umpire1</th>\n",
       "      <th>umpire2</th>\n",
       "      <th>Year</th>\n",
       "    </tr>\n",
       "  </thead>\n",
       "  <tbody>\n",
       "    <tr>\n",
       "      <th>1</th>\n",
       "      <td>335983</td>\n",
       "      <td>Chandigarh</td>\n",
       "      <td>2008-04-19</td>\n",
       "      <td>MEK Hussey</td>\n",
       "      <td>Punjab Cricket Association Stadium, Mohali</td>\n",
       "      <td>0</td>\n",
       "      <td>Kings XI Punjab</td>\n",
       "      <td>Chennai Super Kings</td>\n",
       "      <td>Chennai Super Kings</td>\n",
       "      <td>bat</td>\n",
       "      <td>Chennai Super Kings</td>\n",
       "      <td>runs</td>\n",
       "      <td>33.0</td>\n",
       "      <td>N</td>\n",
       "      <td>NaN</td>\n",
       "      <td>MR Benson</td>\n",
       "      <td>SL Shastri</td>\n",
       "      <td>2008</td>\n",
       "    </tr>\n",
       "    <tr>\n",
       "      <th>8</th>\n",
       "      <td>335990</td>\n",
       "      <td>Hyderabad</td>\n",
       "      <td>2008-04-24</td>\n",
       "      <td>YK Pathan</td>\n",
       "      <td>Rajiv Gandhi International Stadium, Uppal</td>\n",
       "      <td>0</td>\n",
       "      <td>Deccan Chargers</td>\n",
       "      <td>Rajasthan Royals</td>\n",
       "      <td>Rajasthan Royals</td>\n",
       "      <td>field</td>\n",
       "      <td>Rajasthan Royals</td>\n",
       "      <td>wickets</td>\n",
       "      <td>3.0</td>\n",
       "      <td>N</td>\n",
       "      <td>NaN</td>\n",
       "      <td>Asad Rauf</td>\n",
       "      <td>MR Benson</td>\n",
       "      <td>2008</td>\n",
       "    </tr>\n",
       "    <tr>\n",
       "      <th>10</th>\n",
       "      <td>335992</td>\n",
       "      <td>Bangalore</td>\n",
       "      <td>2008-04-26</td>\n",
       "      <td>SR Watson</td>\n",
       "      <td>M Chinnaswamy Stadium</td>\n",
       "      <td>0</td>\n",
       "      <td>Royal Challengers Bangalore</td>\n",
       "      <td>Rajasthan Royals</td>\n",
       "      <td>Rajasthan Royals</td>\n",
       "      <td>field</td>\n",
       "      <td>Rajasthan Royals</td>\n",
       "      <td>wickets</td>\n",
       "      <td>7.0</td>\n",
       "      <td>N</td>\n",
       "      <td>NaN</td>\n",
       "      <td>MR Benson</td>\n",
       "      <td>IL Howell</td>\n",
       "      <td>2008</td>\n",
       "    </tr>\n",
       "    <tr>\n",
       "      <th>12</th>\n",
       "      <td>335994</td>\n",
       "      <td>Mumbai</td>\n",
       "      <td>2008-04-27</td>\n",
       "      <td>AC Gilchrist</td>\n",
       "      <td>Dr DY Patil Sports Academy</td>\n",
       "      <td>0</td>\n",
       "      <td>Mumbai Indians</td>\n",
       "      <td>Deccan Chargers</td>\n",
       "      <td>Deccan Chargers</td>\n",
       "      <td>field</td>\n",
       "      <td>Deccan Chargers</td>\n",
       "      <td>wickets</td>\n",
       "      <td>10.0</td>\n",
       "      <td>N</td>\n",
       "      <td>NaN</td>\n",
       "      <td>Asad Rauf</td>\n",
       "      <td>SL Shastri</td>\n",
       "      <td>2008</td>\n",
       "    </tr>\n",
       "    <tr>\n",
       "      <th>14</th>\n",
       "      <td>335996</td>\n",
       "      <td>Bangalore</td>\n",
       "      <td>2008-04-28</td>\n",
       "      <td>MS Dhoni</td>\n",
       "      <td>M Chinnaswamy Stadium</td>\n",
       "      <td>0</td>\n",
       "      <td>Royal Challengers Bangalore</td>\n",
       "      <td>Chennai Super Kings</td>\n",
       "      <td>Chennai Super Kings</td>\n",
       "      <td>bat</td>\n",
       "      <td>Chennai Super Kings</td>\n",
       "      <td>runs</td>\n",
       "      <td>13.0</td>\n",
       "      <td>N</td>\n",
       "      <td>NaN</td>\n",
       "      <td>BR Doctrove</td>\n",
       "      <td>RB Tiffin</td>\n",
       "      <td>2008</td>\n",
       "    </tr>\n",
       "  </tbody>\n",
       "</table>\n",
       "</div>"
      ],
      "text/plain": [
       "        id        city       date player_of_match  \\\n",
       "1   335983  Chandigarh 2008-04-19      MEK Hussey   \n",
       "8   335990   Hyderabad 2008-04-24       YK Pathan   \n",
       "10  335992   Bangalore 2008-04-26       SR Watson   \n",
       "12  335994      Mumbai 2008-04-27    AC Gilchrist   \n",
       "14  335996   Bangalore 2008-04-28        MS Dhoni   \n",
       "\n",
       "                                         venue  neutral_venue  \\\n",
       "1   Punjab Cricket Association Stadium, Mohali              0   \n",
       "8    Rajiv Gandhi International Stadium, Uppal              0   \n",
       "10                       M Chinnaswamy Stadium              0   \n",
       "12                  Dr DY Patil Sports Academy              0   \n",
       "14                       M Chinnaswamy Stadium              0   \n",
       "\n",
       "                          team1                team2          toss_winner  \\\n",
       "1               Kings XI Punjab  Chennai Super Kings  Chennai Super Kings   \n",
       "8               Deccan Chargers     Rajasthan Royals     Rajasthan Royals   \n",
       "10  Royal Challengers Bangalore     Rajasthan Royals     Rajasthan Royals   \n",
       "12               Mumbai Indians      Deccan Chargers      Deccan Chargers   \n",
       "14  Royal Challengers Bangalore  Chennai Super Kings  Chennai Super Kings   \n",
       "\n",
       "   toss_decision               winner   result  result_margin eliminator  \\\n",
       "1            bat  Chennai Super Kings     runs           33.0          N   \n",
       "8          field     Rajasthan Royals  wickets            3.0          N   \n",
       "10         field     Rajasthan Royals  wickets            7.0          N   \n",
       "12         field      Deccan Chargers  wickets           10.0          N   \n",
       "14           bat  Chennai Super Kings     runs           13.0          N   \n",
       "\n",
       "   method      umpire1     umpire2  Year  \n",
       "1     NaN    MR Benson  SL Shastri  2008  \n",
       "8     NaN    Asad Rauf   MR Benson  2008  \n",
       "10    NaN    MR Benson   IL Howell  2008  \n",
       "12    NaN    Asad Rauf  SL Shastri  2008  \n",
       "14    NaN  BR Doctrove   RB Tiffin  2008  "
      ]
     },
     "execution_count": 7,
     "metadata": {},
     "output_type": "execute_result"
    }
   ],
   "source": [
    "df1.head()"
   ]
  },
  {
   "cell_type": "code",
   "execution_count": 8,
   "metadata": {},
   "outputs": [],
   "source": [
    "df_x = sorted(df1['team1'].unique())"
   ]
  },
  {
   "cell_type": "code",
   "execution_count": 9,
   "metadata": {},
   "outputs": [
    {
     "data": {
      "text/plain": [
       "'Rising Pune Supergiants'"
      ]
     },
     "execution_count": 9,
     "metadata": {},
     "output_type": "execute_result"
    }
   ],
   "source": [
    "df_x.pop(-3)"
   ]
  },
  {
   "cell_type": "code",
   "execution_count": 10,
   "metadata": {},
   "outputs": [
    {
     "data": {
      "text/plain": [
       "['Chennai Super Kings',\n",
       " 'Deccan Chargers',\n",
       " 'Delhi Capitals',\n",
       " 'Delhi Daredevils',\n",
       " 'Gujarat Lions',\n",
       " 'Kings XI Punjab',\n",
       " 'Kochi Tuskers Kerala',\n",
       " 'Kolkata Knight Riders',\n",
       " 'Mumbai Indians',\n",
       " 'Pune Warriors',\n",
       " 'Rajasthan Royals',\n",
       " 'Rising Pune Supergiant',\n",
       " 'Royal Challengers Bangalore',\n",
       " 'Sunrisers Hyderabad']"
      ]
     },
     "execution_count": 10,
     "metadata": {},
     "output_type": "execute_result"
    }
   ],
   "source": [
    "df_x"
   ]
  },
  {
   "cell_type": "code",
   "execution_count": 11,
   "metadata": {},
   "outputs": [],
   "source": [
    "df_CSK = df.loc[(df['winner']==df_x[0])]\n",
    "df_DCh = df.loc[(df['winner']==df_x[1])]\n",
    "df_DC = df.loc[(df['winner']==df_x[2])]\n",
    "df_DD = df.loc[(df['winner']==df_x[3])]\n",
    "df_GL = df.loc[(df['winner']==df_x[4])]\n",
    "df_KIXP = df.loc[(df['winner']==df_x[5])]\n",
    "df_KTK = df.loc[(df['winner']==df_x[6])]\n",
    "df_KKR = df.loc[(df['winner']==df_x[7])]\n",
    "df_MI = df.loc[(df['winner']==df_x[8])]\n",
    "df_PW = df.loc[(df['winner']==df_x[9])]\n",
    "df_RR = df.loc[(df['winner']==df_x[10])]\n",
    "df_RPS = df.loc[(df['winner']==df_x[11]) | (df['winner']=='Rising Pune Supergiants')]\n",
    "df_RCB = df.loc[(df['winner']==df_x[12])]\n",
    "df_SRH = df.loc[(df['winner']==df_x[13])]"
   ]
  },
  {
   "cell_type": "code",
   "execution_count": 12,
   "metadata": {},
   "outputs": [],
   "source": [
    "df1_CSK = df1.loc[(df1['winner']==df_x[0])]\n",
    "df1_DCh = df1.loc[(df1['winner']==df_x[1])]\n",
    "df1_DC = df1.loc[(df1['winner']==df_x[2])]\n",
    "df1_DD = df1.loc[(df1['winner']==df_x[3])]\n",
    "df1_GL = df1.loc[(df1['winner']==df_x[4])]\n",
    "df1_KIXP = df1.loc[(df1['winner']==df_x[5])]\n",
    "df1_KTK = df1.loc[(df1['winner']==df_x[6])]\n",
    "df1_KKR = df1.loc[(df1['winner']==df_x[7])]\n",
    "df1_MI = df1.loc[(df1['winner']==df_x[8])]\n",
    "df1_PW = df1.loc[(df1['winner']==df_x[9])]\n",
    "df1_RR = df1.loc[(df1['winner']==df_x[10])]\n",
    "df1_RPS = df1.loc[(df1['winner']==df_x[11]) | (df1['winner']=='Rising Pune Supergiants')]\n",
    "df1_RCB = df1.loc[(df1['winner']==df_x[12])]\n",
    "df1_SRH = df1.loc[(df1['winner']==df_x[13])]"
   ]
  },
  {
   "cell_type": "code",
   "execution_count": 13,
   "metadata": {},
   "outputs": [],
   "source": [
    "lst = [df_CSK,df_DCh,df_DC,df_DD,df_GL,df_KIXP,df_KTK,df_KKR,df_MI,df_PW,df_RR,df_RPS,df_RCB,df_SRH]\n",
    "lst2 = [df1_CSK,df1_DCh,df1_DC,df1_DD,df1_GL,df1_KIXP,df1_KTK,df1_KKR,df1_MI,df1_PW,df1_RR,df1_RPS,df1_RCB,df1_SRH]\n"
   ]
  },
  {
   "cell_type": "code",
   "execution_count": 14,
   "metadata": {},
   "outputs": [],
   "source": [
    "lst1 = [len(i) for i in lst]\n",
    "lst3 = [len(i) for i in lst2]"
   ]
  },
  {
   "cell_type": "code",
   "execution_count": 15,
   "metadata": {},
   "outputs": [
    {
     "data": {
      "text/plain": [
       "[106, 29, 19, 67, 13, 88, 6, 99, 120, 12, 81, 15, 91, 66]"
      ]
     },
     "execution_count": 15,
     "metadata": {},
     "output_type": "execute_result"
    }
   ],
   "source": [
    "lst1"
   ]
  },
  {
   "cell_type": "code",
   "execution_count": 16,
   "metadata": {},
   "outputs": [
    {
     "data": {
      "text/plain": [
       "[61, 19, 10, 35, 10, 36, 4, 55, 61, 3, 44, 8, 43, 29]"
      ]
     },
     "execution_count": 16,
     "metadata": {},
     "output_type": "execute_result"
    }
   ],
   "source": [
    "lst3"
   ]
  },
  {
   "cell_type": "code",
   "execution_count": 17,
   "metadata": {},
   "outputs": [
    {
     "data": {
      "text/plain": [
       "[0.5754716981132075,\n",
       " 0.6551724137931034,\n",
       " 0.5263157894736842,\n",
       " 0.5223880597014925,\n",
       " 0.7692307692307693,\n",
       " 0.4090909090909091,\n",
       " 0.6666666666666666,\n",
       " 0.5555555555555556,\n",
       " 0.5083333333333333,\n",
       " 0.25,\n",
       " 0.5432098765432098,\n",
       " 0.5333333333333333,\n",
       " 0.4725274725274725,\n",
       " 0.4393939393939394]"
      ]
     },
     "execution_count": 17,
     "metadata": {},
     "output_type": "execute_result"
    }
   ],
   "source": [
    "lst4 = [lst3[i]/lst1[i] for i in range(len(lst1))]\n",
    "lst4"
   ]
  },
  {
   "cell_type": "code",
   "execution_count": 18,
   "metadata": {},
   "outputs": [],
   "source": [
    "lst_names = ['df_CSK','df_DCH','df_DC','df_DD','df_GL','df_KIXP','df_KTK','df_KKR','df_MI','df_PW','df_RR','df_RPS','df_RCB','df_SRH']"
   ]
  },
  {
   "cell_type": "code",
   "execution_count": 19,
   "metadata": {},
   "outputs": [],
   "source": [
    "lst_names = [i.split('_')[-1] for i in lst_names]"
   ]
  },
  {
   "cell_type": "code",
   "execution_count": 20,
   "metadata": {},
   "outputs": [
    {
     "data": {
      "text/plain": [
       "['CSK',\n",
       " 'DCH',\n",
       " 'DC',\n",
       " 'DD',\n",
       " 'GL',\n",
       " 'KIXP',\n",
       " 'KTK',\n",
       " 'KKR',\n",
       " 'MI',\n",
       " 'PW',\n",
       " 'RR',\n",
       " 'RPS',\n",
       " 'RCB',\n",
       " 'SRH']"
      ]
     },
     "execution_count": 20,
     "metadata": {},
     "output_type": "execute_result"
    }
   ],
   "source": [
    "lst_names"
   ]
  },
  {
   "cell_type": "code",
   "execution_count": 21,
   "metadata": {},
   "outputs": [],
   "source": [
    "import matplotlib.pyplot as plt"
   ]
  },
  {
   "cell_type": "code",
   "execution_count": 25,
   "metadata": {},
   "outputs": [
    {
     "data": {
      "image/png": "[encoded data removed]",
      "text/plain": [
       "<Figure size 720x576 with 1 Axes>"
      ]
     },
     "metadata": {
      "needs_background": "light"
     },
     "output_type": "display_data"
    }
   ],
   "source": [
    "plt.figure(figsize=(10,8))\n",
    "bars = plt.bar(lst_names,lst4, color = 'grey',width=0.5,alpha=0.7)\n",
    "plt.xlabel('Teams',weight='bold')\n",
    "plt.ylabel('Win Percentage',weight='bold')\n",
    "plt.title('Success Rate of toss winning team in the game(2008-2020)',weight='bold')\n",
    "plt.gca().yaxis.grid(True,color='Maroon',alpha=0.4)\n",
    "plt.xticks(weight='bold')\n",
    "\n",
    "for bar in bars:\n",
    "    plt.text(\n",
    "        bar.get_x() + bar.get_width()/2,\n",
    "        bar.get_height() + 0.01,\n",
    "        round(bar.get_height(),2),\n",
    "        horizontalalignment='center',\n",
    "        color = 'Maroon',\n",
    "        weight= 'bold'\n",
    "        )\n"
   ]
  },
  {
   "cell_type": "code",
   "execution_count": null,
   "metadata": {},
   "outputs": [],
   "source": []
  }
 ],
 "metadata": {
  "kernelspec": {
   "display_name": "Python 3",
   "language": "python",
   "name": "python3"
  },
  "language_info": {
   "codemirror_mode": {
    "name": "ipython",
    "version": 3
   },
   "file_extension": ".py",
   "mimetype": "text/x-python",
   "name": "python",
   "nbconvert_exporter": "python",
   "pygments_lexer": "ipython3",
   "version": "3.9.5"
  },
  "orig_nbformat": 4
 },
 "nbformat": 4,
 "nbformat_minor": 2
}
